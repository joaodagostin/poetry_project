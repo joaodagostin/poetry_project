{ 
 "cells": [
  {
   "cell_type": "code",
   "execution_count": 1,
   "id": "7cce1bce-3246-41cd-a52b-4356c94a4c6b",
   "metadata": {},
   "outputs": [],
   "source": [
    "import sys\n",
    "import os\n",
    "\n",
    "# Adiciona o caminho da pasta raiz do projeto ao sys.path\n",
    "sys.path.append(os.path.abspath(os.path.join(\"..\")))\n",
    "\n",
    "# Agora pode importar normalmente\n",
    "from src.spark_setup import get_spark\n",
    "\n",
    "spark = get_spark()"
   ]
  },
  {
   "cell_type": "code",
   "execution_count": 2,
   "id": "b1128e8c-bd16-4b93-a028-1df2377e9b88",
   "metadata": {
    "scrolled": true
   },
   "outputs": [
    {
     "name": "stdout",
     "output_type": "stream",
     "text": [
      "+-------------+\n",
      "|      catalog|\n",
      "+-------------+\n",
      "|spark_catalog|\n",
      "+-------------+\n",
      "\n"
     ]
    }
   ],
   "source": [
    "spark.sql(\"SHOW CATALOGS\").show()\n"
   ]
  },
  {
   "cell_type": "code",
   "execution_count": 3,
   "id": "686edae4-6f5b-466f-8381-e5d58992a8ff",
   "metadata": {},
   "outputs": [
    {
     "name": "stdout",
     "output_type": "stream",
     "text": [
      "++\n",
      "||\n",
      "++\n",
      "++\n",
      "\n"
     ]
    }
   ],
   "source": [
    "spark.sql(\"CREATE TABLE local.db.test_table (id INT, name STRING) USING iceberg\").show()\n"
   ]
  },
  {
   "cell_type": "code",
   "execution_count": 4,
   "id": "c8ac1ef8-b622-4075-994c-7eaf42327b74",
   "metadata": {},
   "outputs": [
    {
     "data": {
      "text/plain": [
       "DataFrame[]"
      ]
     },
     "execution_count": 4,
     "metadata": {},
     "output_type": "execute_result"
    }
   ],
   "source": [
    "spark.sql(\"INSERT INTO local.db.test_table VALUES (1, 'Carlos')\")\n",
    "spark.sql(\"INSERT INTO local.db.test_table VALUES (2, 'Marina')\")\n",
    "spark.sql(\"INSERT INTO local.db.test_table VALUES (3, 'Bianca')\")"
   ]
  },
  {
   "cell_type": "code",
   "execution_count": 5,
   "id": "f2fa8215-3741-4215-bedb-778557bf67bb",
   "metadata": {},
   "outputs": [
    {
     "name": "stdout",
     "output_type": "stream",
     "text": [
      "+---+-------+\n",
      "| id|   name|\n",
      "+---+-------+\n",
      "|  1| Carlos|\n",
      "|  3|Bianca |\n",
      "|  2| Marina|\n",
      "+---+-------+\n",
      "\n"
     ]
    }
   ],
   "source": [
    "spark.sql(\"SELECT * FROM local.db.test_table\").show()\n"
   ]
  },
  {
   "cell_type": "code",
   "execution_count": 7,
   "id": "619c793f-670b-44d2-9f27-c046b53067a5",
   "metadata": {},
   "outputs": [
    {
     "name": "stdout",
     "output_type": "stream",
     "text": [
      "Dados após o DELETE:\n",
      "+---+-------+\n",
      "| id|   name|\n",
      "+---+-------+\n",
      "|  1| Carlos|\n",
      "|  3|Bianca |\n",
      "+---+-------+\n",
      "\n"
     ]
    }
   ],
   "source": [
    "spark.sql(\"DELETE FROM local.db.test_table WHERE id = 2\")\n",
    "\n",
    "# Consultando e mostrando os dados da tabela após o DELETE\n",
    "print(\"Dados após o DELETE:\")\n",
    "spark.sql(\"SELECT * FROM local.db.test_table\").show()\n"
   ]
  },
  {
   "cell_type": "code",
   "execution_count": null,
   "id": "64dc3f55-8581-4608-84f6-7a0b326a3d95",
   "metadata": {},
   "outputs": [],
   "source": []
  }
 ],
 "metadata": {
  "kernelspec": {
   "display_name": "Python 3.11 (Spark+Iceberg)",
   "language": "python",
   "name": "spark-iceberg-env"
  },
  "language_info": {
   "codemirror_mode": {
    "name": "ipython",
    "version": 3
   },
   "file_extension": ".py",
   "mimetype": "text/x-python",
   "name": "python",
   "nbconvert_exporter": "python",
   "pygments_lexer": "ipython3",
   "version": "3.11.9"
  }
 },
 "nbformat": 4,
 "nbformat_minor": 5
}
